{
 "cells": [
  {
   "cell_type": "code",
   "execution_count": 1,
   "id": "b7779af8",
   "metadata": {},
   "outputs": [],
   "source": [
    "import pandas as pd\n",
    "import numpy as np\n",
    "from glob import glob\n",
    "import xgboost as xgb\n",
    "from tqdm import tqdm"
   ]
  },
  {
   "cell_type": "code",
   "execution_count": 2,
   "id": "296d90af",
   "metadata": {},
   "outputs": [],
   "source": [
    "data = pd.DataFrame()"
   ]
  },
  {
   "cell_type": "code",
   "execution_count": 3,
   "id": "4ffc5916",
   "metadata": {},
   "outputs": [],
   "source": [
    "csv_paths = list(glob(\"/media/xview/xview3_challenge/dataset/ensemble/*/*.csv\"))"
   ]
  },
  {
   "cell_type": "code",
   "execution_count": 4,
   "id": "f164675a",
   "metadata": {},
   "outputs": [
    {
     "name": "stderr",
     "output_type": "stream",
     "text": [
      "100%|███████████████████████████████████████████| 30/30 [00:52<00:00,  1.73s/it]\n"
     ]
    }
   ],
   "source": [
    "for csv in tqdm(csv_paths[:30]):\n",
    "    data = pd.concat([data, pd.read_csv(csv)])"
   ]
  },
  {
   "cell_type": "code",
   "execution_count": 5,
   "id": "40d0c72d",
   "metadata": {},
   "outputs": [],
   "source": [
    "from sklearn.preprocessing import StandardScaler\n",
    "from sklearn.model_selection import train_test_split"
   ]
  },
  {
   "cell_type": "code",
   "execution_count": 6,
   "id": "3d618e7f",
   "metadata": {},
   "outputs": [],
   "source": [
    "data = data.values"
   ]
  },
  {
   "cell_type": "code",
   "execution_count": 11,
   "id": "b226ae5e",
   "metadata": {},
   "outputs": [
    {
     "data": {
      "text/plain": [
       "(array([0., 1., 2., 3.]), array([1446511,  282553,  506480,  242158]))"
      ]
     },
     "execution_count": 11,
     "metadata": {},
     "output_type": "execute_result"
    }
   ],
   "source": [
    "np.unique(data[:, -1], return_counts=True)"
   ]
  },
  {
   "cell_type": "code",
   "execution_count": 12,
   "id": "d232169a",
   "metadata": {},
   "outputs": [],
   "source": [
    "X, y = data[:, :-1], data[:, -1]\n",
    "del data"
   ]
  },
  {
   "cell_type": "code",
   "execution_count": 13,
   "id": "0c5fe786",
   "metadata": {},
   "outputs": [],
   "source": [
    "X_train, X_test, y_train, y_test = train_test_split(X, y, test_size=0.33, random_state=42)"
   ]
  },
  {
   "cell_type": "code",
   "execution_count": 14,
   "id": "7e1c891e",
   "metadata": {},
   "outputs": [
    {
     "data": {
      "text/plain": [
       "((1660060, 129), (817642, 129), (1660060,), (817642,))"
      ]
     },
     "execution_count": 14,
     "metadata": {},
     "output_type": "execute_result"
    }
   ],
   "source": [
    "X_train.shape, X_test.shape, y_train.shape, y_test.shape"
   ]
  },
  {
   "cell_type": "code",
   "execution_count": 25,
   "id": "42e01ca4",
   "metadata": {},
   "outputs": [],
   "source": [
    "scaler = StandardScaler()\n",
    "\n",
    "scaler_fit = scaler.fit(X_train)"
   ]
  },
  {
   "cell_type": "code",
   "execution_count": 26,
   "id": "b19e4065",
   "metadata": {},
   "outputs": [],
   "source": [
    "X_train = scaler_fit.transform(X_train)\n",
    "X_test = scaler_fit.transform(X_test)"
   ]
  },
  {
   "cell_type": "code",
   "execution_count": 27,
   "id": "07814ed6",
   "metadata": {},
   "outputs": [],
   "source": [
    "xgb_clf = xgb.XGBClassifier(objective=\"multi:softmax\", early_stopping_rounds=10, use_label_encoder=False)"
   ]
  },
  {
   "cell_type": "code",
   "execution_count": 28,
   "id": "1c43ec13",
   "metadata": {},
   "outputs": [
    {
     "name": "stdout",
     "output_type": "stream",
     "text": [
      "[14:43:10] WARNING: ../src/learner.cc:576: \n",
      "Parameters: { \"early_stopping_rounds\" } might not be used.\n",
      "\n",
      "  This could be a false alarm, with some parameters getting used by language bindings but\n",
      "  then being mistakenly passed down to XGBoost core, or some parameter actually being used\n",
      "  but getting flagged wrongly here. Please open an issue if you find any such cases.\n",
      "\n",
      "\n",
      "[14:43:32] WARNING: ../src/learner.cc:1115: Starting in XGBoost 1.3.0, the default evaluation metric used with the objective 'multi:softprob' was changed from 'merror' to 'mlogloss'. Explicitly set eval_metric if you'd like to restore the old behavior.\n",
      "[0]\tvalidation_0-mlogloss:1.02055\n",
      "[1]\tvalidation_0-mlogloss:0.81844\n",
      "[2]\tvalidation_0-mlogloss:0.68382\n",
      "[3]\tvalidation_0-mlogloss:0.58829\n",
      "[4]\tvalidation_0-mlogloss:0.51860\n",
      "[5]\tvalidation_0-mlogloss:0.46758\n",
      "[6]\tvalidation_0-mlogloss:0.42842\n",
      "[7]\tvalidation_0-mlogloss:0.39619\n",
      "[8]\tvalidation_0-mlogloss:0.36974\n",
      "[9]\tvalidation_0-mlogloss:0.34989\n",
      "[10]\tvalidation_0-mlogloss:0.33287\n",
      "[11]\tvalidation_0-mlogloss:0.31884\n",
      "[12]\tvalidation_0-mlogloss:0.30679\n",
      "[13]\tvalidation_0-mlogloss:0.29664\n",
      "[14]\tvalidation_0-mlogloss:0.28785\n",
      "[15]\tvalidation_0-mlogloss:0.28046\n",
      "[16]\tvalidation_0-mlogloss:0.27389\n",
      "[17]\tvalidation_0-mlogloss:0.26788\n",
      "[18]\tvalidation_0-mlogloss:0.26302\n",
      "[19]\tvalidation_0-mlogloss:0.25861\n",
      "[20]\tvalidation_0-mlogloss:0.25442\n",
      "[21]\tvalidation_0-mlogloss:0.25121\n",
      "[22]\tvalidation_0-mlogloss:0.24653\n",
      "[23]\tvalidation_0-mlogloss:0.24334\n",
      "[24]\tvalidation_0-mlogloss:0.23987\n",
      "[25]\tvalidation_0-mlogloss:0.23600\n",
      "[26]\tvalidation_0-mlogloss:0.23212\n",
      "[27]\tvalidation_0-mlogloss:0.22806\n",
      "[28]\tvalidation_0-mlogloss:0.22393\n",
      "[29]\tvalidation_0-mlogloss:0.21933\n",
      "[30]\tvalidation_0-mlogloss:0.21663\n",
      "[31]\tvalidation_0-mlogloss:0.21345\n",
      "[32]\tvalidation_0-mlogloss:0.21055\n",
      "[33]\tvalidation_0-mlogloss:0.20770\n",
      "[34]\tvalidation_0-mlogloss:0.20439\n",
      "[35]\tvalidation_0-mlogloss:0.20235\n",
      "[36]\tvalidation_0-mlogloss:0.19967\n",
      "[37]\tvalidation_0-mlogloss:0.19787\n",
      "[38]\tvalidation_0-mlogloss:0.19354\n",
      "[39]\tvalidation_0-mlogloss:0.19065\n",
      "[40]\tvalidation_0-mlogloss:0.18799\n",
      "[41]\tvalidation_0-mlogloss:0.18497\n",
      "[42]\tvalidation_0-mlogloss:0.18280\n",
      "[43]\tvalidation_0-mlogloss:0.17966\n",
      "[44]\tvalidation_0-mlogloss:0.17804\n",
      "[45]\tvalidation_0-mlogloss:0.17505\n",
      "[46]\tvalidation_0-mlogloss:0.17226\n",
      "[47]\tvalidation_0-mlogloss:0.16893\n",
      "[48]\tvalidation_0-mlogloss:0.16767\n",
      "[49]\tvalidation_0-mlogloss:0.16507\n",
      "[50]\tvalidation_0-mlogloss:0.16308\n",
      "[51]\tvalidation_0-mlogloss:0.16115\n",
      "[52]\tvalidation_0-mlogloss:0.15910\n",
      "[53]\tvalidation_0-mlogloss:0.15710\n",
      "[54]\tvalidation_0-mlogloss:0.15403\n",
      "[55]\tvalidation_0-mlogloss:0.15187\n",
      "[56]\tvalidation_0-mlogloss:0.14945\n",
      "[57]\tvalidation_0-mlogloss:0.14717\n",
      "[58]\tvalidation_0-mlogloss:0.14588\n",
      "[59]\tvalidation_0-mlogloss:0.14362\n",
      "[60]\tvalidation_0-mlogloss:0.14151\n",
      "[61]\tvalidation_0-mlogloss:0.14017\n",
      "[62]\tvalidation_0-mlogloss:0.13897\n",
      "[63]\tvalidation_0-mlogloss:0.13707\n",
      "[64]\tvalidation_0-mlogloss:0.13543\n",
      "[65]\tvalidation_0-mlogloss:0.13355\n",
      "[66]\tvalidation_0-mlogloss:0.13245\n",
      "[67]\tvalidation_0-mlogloss:0.13085\n",
      "[68]\tvalidation_0-mlogloss:0.12960\n",
      "[69]\tvalidation_0-mlogloss:0.12875\n",
      "[70]\tvalidation_0-mlogloss:0.12713\n",
      "[71]\tvalidation_0-mlogloss:0.12592\n",
      "[72]\tvalidation_0-mlogloss:0.12400\n",
      "[73]\tvalidation_0-mlogloss:0.12239\n",
      "[74]\tvalidation_0-mlogloss:0.12088\n",
      "[75]\tvalidation_0-mlogloss:0.11929\n",
      "[76]\tvalidation_0-mlogloss:0.11753\n",
      "[77]\tvalidation_0-mlogloss:0.11613\n",
      "[78]\tvalidation_0-mlogloss:0.11499\n",
      "[79]\tvalidation_0-mlogloss:0.11391\n",
      "[80]\tvalidation_0-mlogloss:0.11312\n",
      "[81]\tvalidation_0-mlogloss:0.11143\n",
      "[82]\tvalidation_0-mlogloss:0.11081\n",
      "[83]\tvalidation_0-mlogloss:0.10952\n",
      "[84]\tvalidation_0-mlogloss:0.10819\n",
      "[85]\tvalidation_0-mlogloss:0.10684\n",
      "[86]\tvalidation_0-mlogloss:0.10589\n",
      "[87]\tvalidation_0-mlogloss:0.10521\n",
      "[88]\tvalidation_0-mlogloss:0.10410\n",
      "[89]\tvalidation_0-mlogloss:0.10300\n",
      "[90]\tvalidation_0-mlogloss:0.10182\n",
      "[91]\tvalidation_0-mlogloss:0.10089\n",
      "[92]\tvalidation_0-mlogloss:0.10031\n",
      "[93]\tvalidation_0-mlogloss:0.09917\n",
      "[94]\tvalidation_0-mlogloss:0.09807\n",
      "[95]\tvalidation_0-mlogloss:0.09719\n",
      "[96]\tvalidation_0-mlogloss:0.09663\n",
      "[97]\tvalidation_0-mlogloss:0.09598\n",
      "[98]\tvalidation_0-mlogloss:0.09552\n",
      "[99]\tvalidation_0-mlogloss:0.09491\n"
     ]
    }
   ],
   "source": [
    "xgb_model = xgb_clf.fit(X_train, y_train.astype(\"int32\"), eval_set=[(X_test, y_test.astype(\"int32\"))])"
   ]
  },
  {
   "cell_type": "code",
   "execution_count": 35,
   "id": "aa54dbfe",
   "metadata": {},
   "outputs": [],
   "source": [
    "y_pred = xgb_model.predict(X_test)"
   ]
  },
  {
   "cell_type": "code",
   "execution_count": 36,
   "id": "61872903",
   "metadata": {},
   "outputs": [
    {
     "data": {
      "text/plain": [
       "0.9750844501627852"
      ]
     },
     "execution_count": 36,
     "metadata": {},
     "output_type": "execute_result"
    }
   ],
   "source": [
    "np.mean(y_test == y_pred)"
   ]
  },
  {
   "cell_type": "code",
   "execution_count": 39,
   "id": "d5311bd6",
   "metadata": {},
   "outputs": [
    {
     "name": "stdout",
     "output_type": "stream",
     "text": [
      "Accuracy: 0.7565780184644534\n",
      "Accuracy: 0.8858217929322316\n",
      "Accuracy: 0.783219101183666\n",
      "Accuracy: 0.8701055609968441\n",
      "Accuracy: 0.8857957102144893\n",
      "Accuracy: 0.8669429546562653\n",
      "Accuracy: 0.8860086076352913\n",
      "Accuracy: 0.8727051130757773\n",
      "Accuracy: 0.8938573927358782\n",
      "Accuracy: 0.8069556198665083\n",
      "Accuracy: 0.8815439791521532\n",
      "Accuracy: 0.8295936600602895\n",
      "Accuracy: 0.8798096089493458\n",
      "Accuracy: 0.8793865058187771\n",
      "Accuracy: 0.8563305403062699\n",
      "Accuracy: 0.760644285525096\n",
      "Accuracy: 0.870189578839823\n",
      "Accuracy: 0.9016986911723753\n",
      "Accuracy: 0.832598601836394\n",
      "Accuracy: 0.884834088040977\n",
      "Accuracy: 0.8042830286352615\n",
      "Accuracy: 0.8772786152777517\n",
      "Accuracy: 0.8535766402674865\n",
      "Accuracy: 0.8077870167254818\n",
      "Accuracy: 0.8748189863234112\n",
      "Accuracy: 0.8798216379682775\n",
      "Accuracy: 0.8934864927756976\n",
      "Accuracy: 0.7538892722241587\n",
      "Accuracy: 0.923423944476576\n",
      "Accuracy: 0.7718216514873858\n"
     ]
    }
   ],
   "source": [
    "for csv in csv_paths[30:60]:\n",
    "    d = pd.read_csv(csv).values\n",
    "    d_x, d_y = d[:, :-1], d[:, -1].astype(\"int32\")\n",
    "    d_x = scaler_fit.transform(d_x)\n",
    "    print(\"Accuracy:\", np.mean(xgb_model.predict(d_x) == d_y))\n",
    "    \n",
    "    "
   ]
  },
  {
   "cell_type": "code",
   "execution_count": 44,
   "id": "a93dc77b",
   "metadata": {},
   "outputs": [],
   "source": [
    "from joblib import dump"
   ]
  },
  {
   "cell_type": "code",
   "execution_count": 45,
   "id": "01ee32c1",
   "metadata": {},
   "outputs": [
    {
     "data": {
      "text/plain": [
       "['scaler.joblib']"
      ]
     },
     "execution_count": 45,
     "metadata": {},
     "output_type": "execute_result"
    }
   ],
   "source": [
    "dump(scaler_fit, \"scaler.joblib\")"
   ]
  },
  {
   "cell_type": "code",
   "execution_count": 47,
   "id": "63f98f5d",
   "metadata": {},
   "outputs": [],
   "source": [
    "xgb_model.save_model(\"xgb_model.json\")"
   ]
  },
  {
   "cell_type": "code",
   "execution_count": null,
   "id": "72698f75",
   "metadata": {},
   "outputs": [],
   "source": []
  },
  {
   "cell_type": "code",
   "execution_count": null,
   "id": "5c08985b",
   "metadata": {},
   "outputs": [],
   "source": []
  }
 ],
 "metadata": {
  "kernelspec": {
   "display_name": "xview3",
   "language": "python",
   "name": "xview3"
  },
  "language_info": {
   "codemirror_mode": {
    "name": "ipython",
    "version": 3
   },
   "file_extension": ".py",
   "mimetype": "text/x-python",
   "name": "python",
   "nbconvert_exporter": "python",
   "pygments_lexer": "ipython3",
   "version": "3.9.2"
  }
 },
 "nbformat": 4,
 "nbformat_minor": 5
}
